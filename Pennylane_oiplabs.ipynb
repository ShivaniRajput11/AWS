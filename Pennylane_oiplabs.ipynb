{
 "cells": [
  {
   "cell_type": "markdown",
   "id": "da5cdcce",
   "metadata": {},
   "source": [
    "# Combining PennyLane with Amazon Braket"
   ]
  },
  {
   "cell_type": "code",
   "execution_count": 1,
   "id": "f36fa49f",
   "metadata": {},
   "outputs": [],
   "source": [
    "# Use Braket SDK Cost Tracking to estimate the cost to run this example\n",
    "from braket.tracking import Tracker\n",
    "t = Tracker().start()"
   ]
  },
  {
   "cell_type": "markdown",
   "id": "555636a9",
   "metadata": {},
   "source": [
    "# Setup"
   ]
  },
  {
   "cell_type": "code",
   "execution_count": 2,
   "id": "4c036a87",
   "metadata": {},
   "outputs": [],
   "source": [
    "import pennylane as qml\n",
    "from pennylane import numpy as np"
   ]
  },
  {
   "cell_type": "code",
   "execution_count": 3,
   "id": "f3a4eae4",
   "metadata": {},
   "outputs": [],
   "source": [
    "wires = 2  # Number of qubits\n",
    "\n",
    "dev = qml.device(\"braket.local.qubit\", wires=wires)"
   ]
  },
  {
   "cell_type": "markdown",
   "id": "13e269ce",
   "metadata": {},
   "source": [
    "Defining a circuit\n",
    "\n",
    "\n",
    "We will choose a simple two-qubit circuit with two controllable rotations and a CNOT gate."
   ]
  },
  {
   "cell_type": "code",
   "execution_count": 4,
   "id": "d12a4cb2",
   "metadata": {},
   "outputs": [],
   "source": [
    "@qml.qnode(dev)\n",
    "def circuit(params):\n",
    "    qml.RX(params[0], wires=0)\n",
    "    qml.RY(params[1], wires=1)\n",
    "    qml.CNOT(wires=[0, 1])\n",
    "    return qml.expval(qml.PauliZ(1))"
   ]
  },
  {
   "cell_type": "markdown",
   "id": "d3b0eabe",
   "metadata": {},
   "source": [
    "# Evaluating the circuit and accessing its gradient"
   ]
  },
  {
   "cell_type": "code",
   "execution_count": 5,
   "id": "70570547",
   "metadata": {},
   "outputs": [],
   "source": [
    "params = np.array([0.2, 0.3], requires_grad=True)"
   ]
  },
  {
   "cell_type": "code",
   "execution_count": 6,
   "id": "6f496910",
   "metadata": {},
   "outputs": [
    {
     "name": "stdout",
     "output_type": "stream",
     "text": [
      "Expectation value of circuit: 0.9362933635841993\n"
     ]
    }
   ],
   "source": [
    "print(\"Expectation value of circuit:\", circuit(params))"
   ]
  },
  {
   "cell_type": "code",
   "execution_count": 7,
   "id": "fd964184",
   "metadata": {},
   "outputs": [
    {
     "name": "stdout",
     "output_type": "stream",
     "text": [
      "Drawing of circuit:\n",
      "\n",
      "0: ──RX(0.20)─╭C─┤     \n",
      "1: ──RY(0.30)─╰X─┤  <Z>\n"
     ]
    }
   ],
   "source": [
    "print(\"Drawing of circuit:\\n\")\n",
    "print(qml.draw(circuit)(params))"
   ]
  },
  {
   "cell_type": "markdown",
   "id": "ce2a778f",
   "metadata": {},
   "source": [
    "A crucial element of machine learning and optimization is accessing the gradient of a model with respect to its parameters. This functionality is built into PennyLane:"
   ]
  },
  {
   "cell_type": "markdown",
   "id": "04f3f490",
   "metadata": {},
   "source": [
    "Here, dcircuit is a callable function that evaluates the gradient of the circuit, i.e., its partial derivatives with respect to the controllable parameters."
   ]
  },
  {
   "cell_type": "code",
   "execution_count": 8,
   "id": "8d0a8f15",
   "metadata": {},
   "outputs": [],
   "source": [
    "dcircuit = qml.grad(circuit)"
   ]
  },
  {
   "cell_type": "code",
   "execution_count": 9,
   "id": "6855a514",
   "metadata": {},
   "outputs": [
    {
     "data": {
      "text/plain": [
       "array([-0.18979606, -0.28962948])"
      ]
     },
     "execution_count": 9,
     "metadata": {},
     "output_type": "execute_result"
    }
   ],
   "source": [
    "dcircuit(params)"
   ]
  },
  {
   "cell_type": "markdown",
   "id": "52cf91eb",
   "metadata": {},
   "source": [
    "# Training the circuit\n",
    "\n",
    "\n"
   ]
  },
  {
   "cell_type": "markdown",
   "id": "98ef1c84",
   "metadata": {},
   "source": [
    "Suppose we now want to minimize the output of the circuit by updating its parameters. This can be done using gradient-based optimization.\n",
    "\n",
    "First, an optimizer is fixed:"
   ]
  },
  {
   "cell_type": "code",
   "execution_count": 11,
   "id": "27a58e50",
   "metadata": {},
   "outputs": [],
   "source": [
    "opt = qml.GradientDescentOptimizer(stepsize=0.2)"
   ]
  },
  {
   "cell_type": "markdown",
   "id": "c04ac424",
   "metadata": {},
   "source": [
    "The next step is to run the optimizer for a chosen number of iterations:"
   ]
  },
  {
   "cell_type": "code",
   "execution_count": 19,
   "id": "3ab48510",
   "metadata": {},
   "outputs": [
    {
     "data": {
      "image/png": "[encoded data removed]",
      "text/plain": [
       "<Figure size 640x480 with 1 Axes>"
      ]
     },
     "metadata": {},
     "output_type": "display_data"
    },
    {
     "name": "stdout",
     "output_type": "stream",
     "text": [
      "Minimized circuit output: -1.0\n",
      "Optimized parameters: [9.33464278e-17 3.14159265e+00]\n"
     ]
    }
   ],
   "source": [
    "iterations = 50\n",
    "\n",
    "costs = []\n",
    "\n",
    "for i in range(iterations):\n",
    "    params, cost = opt.step_and_cost(circuit, params)\n",
    "    costs.append(cost)\n",
    "\n",
    "# Visualize results\n",
    "import matplotlib.pyplot as plt    \n",
    "costs.append(circuit(params))\n",
    "plt.plot(costs)\n",
    "plt.xlabel(\"Iterations\")\n",
    "plt.ylabel(\"Cost\")\n",
    "plt.show()\n",
    "\n",
    "\n",
    "print(\"Minimized circuit output:\", circuit(params))\n",
    "print(\"Optimized parameters:\", params)"
   ]
  },
  {
   "cell_type": "markdown",
   "id": "4658ba98",
   "metadata": {},
   "source": [
    "# Running circuits on Braket's on-demand simulator, SV1"
   ]
  },
  {
   "cell_type": "code",
   "execution_count": 20,
   "id": "640d019e",
   "metadata": {},
   "outputs": [],
   "source": [
    "device_arn = \"arn:aws:braket:::device/quantum-simulator/amazon/sv1\""
   ]
  },
  {
   "cell_type": "code",
   "execution_count": 21,
   "id": "3c3332ff",
   "metadata": {},
   "outputs": [],
   "source": [
    "dev = qml.device('braket.aws.qubit', device_arn=device_arn, wires=2)"
   ]
  },
  {
   "cell_type": "markdown",
   "id": "a0e29d04",
   "metadata": {},
   "source": [
    "Let's execute our circuit on SV1, as well as calculating the gradient:"
   ]
  },
  {
   "cell_type": "code",
   "execution_count": 22,
   "id": "86a599a9",
   "metadata": {},
   "outputs": [
    {
     "name": "stdout",
     "output_type": "stream",
     "text": [
      "Result of circuit run on SV1: -1.0\n",
      "Result of gradient calculation on SV1: [ 6.16297582e-32 -1.02695630e-15]\n"
     ]
    }
   ],
   "source": [
    "@qml.qnode(dev)\n",
    "def circuit(params):\n",
    "    qml.RX(params[0], wires=0)\n",
    "    qml.RY(params[1], wires=1)\n",
    "    qml.CNOT(wires=[0, 1])\n",
    "    return qml.expval(qml.PauliZ(1))\n",
    "\n",
    "\n",
    "dcircuit = qml.grad(circuit)\n",
    "\n",
    "print(\"Result of circuit run on SV1:\", circuit(params))\n",
    "print(\"Result of gradient calculation on SV1:\", dcircuit(params))"
   ]
  },
  {
   "cell_type": "code",
   "execution_count": 23,
   "id": "7dcffa18",
   "metadata": {},
   "outputs": [
    {
     "name": "stdout",
     "output_type": "stream",
     "text": [
      "Task Summary\n",
      "{'arn:aws:braket:::device/quantum-simulator/amazon/sv1': {'shots': 0, 'tasks': {'COMPLETED': 6}, 'execution_duration': datetime.timedelta(microseconds=155000), 'billed_execution_duration': datetime.timedelta(seconds=18)}}\n",
      "Note: Charges shown are estimates based on your Amazon Braket simulator and quantum processing unit (QPU) task usage. Estimated charges shown may differ from your actual charges. Estimated charges do not factor in any discounts or credits, and you may experience additional charges based on your use of other services such as Amazon Elastic Compute Cloud (Amazon EC2).\n",
      "Estimated cost to run this example: 0.022 USD\n"
     ]
    }
   ],
   "source": [
    "print(\"Task Summary\")\n",
    "print(t.quantum_tasks_statistics())\n",
    "print('Note: Charges shown are estimates based on your Amazon Braket simulator and quantum processing unit (QPU) task usage. Estimated charges shown may differ from your actual charges. Estimated charges do not factor in any discounts or credits, and you may experience additional charges based on your use of other services such as Amazon Elastic Compute Cloud (Amazon EC2).')\n",
    "print(f\"Estimated cost to run this example: {t.qpu_tasks_cost() + t.simulator_tasks_cost():.3f} USD\")"
   ]
  },
  {
   "cell_type": "code",
   "execution_count": null,
   "id": "97f27959",
   "metadata": {},
   "outputs": [],
   "source": []
  }
 ],
 "metadata": {
  "kernelspec": {
   "display_name": "conda_braket",
   "language": "python",
   "name": "conda_braket"
  },
  "language_info": {
   "codemirror_mode": {
    "name": "ipython",
    "version": 3
   },
   "file_extension": ".py",
   "mimetype": "text/x-python",
   "name": "python",
   "nbconvert_exporter": "python",
   "pygments_lexer": "ipython3",
   "version": "3.7.13"
  }
 },
 "nbformat": 4,
 "nbformat_minor": 5
}
