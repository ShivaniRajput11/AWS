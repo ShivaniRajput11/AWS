{
 "cells": [
  {
   "cell_type": "code",
   "execution_count": 1,
   "id": "dbd79beb",
   "metadata": {},
   "outputs": [],
   "source": [
    "# Use Braket SDK Cost Tracking to estimate the cost to run this example\n",
    "from braket.tracking import Tracker\n",
    "t = Tracker().start()"
   ]
  },
  {
   "cell_type": "code",
   "execution_count": 2,
   "id": "f2a48501",
   "metadata": {},
   "outputs": [],
   "source": [
    "import pennylane as qml\n",
    "from pennylane import numpy as np"
   ]
  },
  {
   "cell_type": "code",
   "execution_count": 3,
   "id": "de7b801f",
   "metadata": {},
   "outputs": [],
   "source": [
    "wires = 2  # Number of qubits\n",
    "\n",
    "dev = qml.device(\"braket.local.qubit\", wires=wires)"
   ]
  },
  {
   "cell_type": "code",
   "execution_count": 6,
   "id": "c89058ad",
   "metadata": {},
   "outputs": [],
   "source": [
    "@qml.qnode(dev)\n",
    "def circuit(params):\n",
    "    qml.RX(params[0], wires=0)\n",
    "    qml.RY(params[1], wires=1)\n",
    "    qml.CNOT(wires=[0, 1])\n",
    "    return qml.expval(qml.PauliZ(1))"
   ]
  },
  {
   "cell_type": "code",
   "execution_count": 7,
   "id": "827c56c5",
   "metadata": {},
   "outputs": [],
   "source": [
    "params = np.array([0.1, 0.2], requires_grad=True)\n",
    "\n"
   ]
  },
  {
   "cell_type": "code",
   "execution_count": 8,
   "id": "4138b31f",
   "metadata": {},
   "outputs": [
    {
     "name": "stdout",
     "output_type": "stream",
     "text": [
      "Expectation value of circuit: 0.9751703272018161\n"
     ]
    }
   ],
   "source": [
    "print(\"Expectation value of circuit:\", circuit(params))\n",
    "\n"
   ]
  },
  {
   "cell_type": "code",
   "execution_count": 11,
   "id": "f5240c64",
   "metadata": {},
   "outputs": [
    {
     "name": "stdout",
     "output_type": "stream",
     "text": [
      "Drawing of circuit:\n",
      "\n",
      "0: ──RX(0.10)─╭●─┤     \n",
      "1: ──RY(0.20)─╰X─┤  <Z>\n"
     ]
    }
   ],
   "source": [
    "print(\"Drawing of circuit:\\n\")\n",
    "print(qml.draw(circuit)(params))\n",
    "\n"
   ]
  },
  {
   "cell_type": "code",
   "execution_count": 12,
   "id": "dd6a0823",
   "metadata": {},
   "outputs": [
    {
     "data": {
      "text/plain": [
       "array([-0.0978434 , -0.19767681])"
      ]
     },
     "execution_count": 12,
     "metadata": {},
     "output_type": "execute_result"
    }
   ],
   "source": [
    "dcircuit = qml.grad(circuit)\n",
    "\n",
    "dcircuit(params)"
   ]
  },
  {
   "cell_type": "markdown",
   "id": "0ce3754f",
   "metadata": {},
   "source": [
    "# Training"
   ]
  },
  {
   "cell_type": "code",
   "execution_count": 14,
   "id": "e163eb05",
   "metadata": {},
   "outputs": [],
   "source": [
    "opt = qml.GradientDescentOptimizer(stepsize=0.2)"
   ]
  },
  {
   "cell_type": "code",
   "execution_count": 15,
   "id": "1c0214a3",
   "metadata": {},
   "outputs": [],
   "source": [
    "iterations = 50\n",
    "\n",
    "costs = []\n",
    "\n",
    "for i in range(iterations):\n",
    "    params, cost = opt.step_and_cost(circuit, params)\n",
    "    costs.append(cost)\n",
    "\n",
    "\n",
    "\n"
   ]
  },
  {
   "cell_type": "code",
   "execution_count": 16,
   "id": "37cdc112",
   "metadata": {},
   "outputs": [
    {
     "name": "stdout",
     "output_type": "stream",
     "text": [
      "Minimized circuit output: -0.9999996577749632\n",
      "Optimized parameters: [4.19618503e-04 3.14087965e+00]\n"
     ]
    }
   ],
   "source": [
    "# Visualize results\n",
    "import matplotlib.pyplot as plt    \n",
    "costs.append(circuit(params))\n",
    "plt.plot(costs)\n",
    "plt.xlabel(\"Iterations\")\n",
    "plt.ylabel(\"Cost\")\n",
    "\n",
    "print(\"Minimized circuit output:\", circuit(params))\n",
    "print(\"Optimized parameters:\", params)"
   ]
  },
  {
   "cell_type": "code",
   "execution_count": 19,
   "id": "82b3bdef",
   "metadata": {},
   "outputs": [
    {
     "data": {
      "image/png": "[encoded data removed]",
      "text/plain": [
       "<Figure size 640x480 with 1 Axes>"
      ]
     },
     "metadata": {},
     "output_type": "display_data"
    }
   ],
   "source": [
    "plt.show()"
   ]
  },
  {
   "cell_type": "code",
   "execution_count": 21,
   "id": "89d78ac9",
   "metadata": {},
   "outputs": [],
   "source": [
    "device_arn = \"arn:aws:braket:::device/quantum-simulator/amazon/sv1\"\n",
    "\n",
    "\n",
    "dev = qml.device('braket.aws.qubit', device_arn=device_arn, wires=2)\n",
    "\n"
   ]
  },
  {
   "cell_type": "code",
   "execution_count": 22,
   "id": "4699e239",
   "metadata": {},
   "outputs": [
    {
     "name": "stdout",
     "output_type": "stream",
     "text": [
      "Result of circuit run on SV1: -1.0\n",
      "Result of gradient calculation on SV1: [ 5.98899655e-09 -1.01762924e-08]\n"
     ]
    }
   ],
   "source": [
    "@qml.qnode(dev)\n",
    "def circuit(params):\n",
    "    qml.RX(params[0], wires=0)\n",
    "    qml.RY(params[1], wires=1)\n",
    "    qml.CNOT(wires=[0, 1])\n",
    "    return qml.expval(qml.PauliZ(1))\n",
    "\n",
    "\n",
    "dcircuit = qml.grad(circuit)\n",
    "\n",
    "print(\"Result of circuit run on SV1:\", circuit(params))\n",
    "print(\"Result of gradient calculation on SV1:\", dcircuit(params))\n"
   ]
  },
  {
   "cell_type": "code",
   "execution_count": 23,
   "id": "b77a6cb0",
   "metadata": {},
   "outputs": [
    {
     "name": "stdout",
     "output_type": "stream",
     "text": [
      "Task Summary\n",
      "{'arn:aws:braket:::device/quantum-simulator/amazon/sv1': {'shots': 0, 'tasks': {'COMPLETED': 2}, 'execution_duration': datetime.timedelta(microseconds=10000), 'billed_execution_duration': datetime.timedelta(seconds=6)}}\n",
      "Note: Charges shown are estimates based on your Amazon Braket simulator and quantum processing unit (QPU) task usage. Estimated charges shown may differ from your actual charges. Estimated charges do not factor in any discounts or credits, and you may experience additional charges based on your use of other services such as Amazon Elastic Compute Cloud (Amazon EC2).\n",
      "Estimated cost to run this example: 0.008 USD\n"
     ]
    }
   ],
   "source": [
    "\n",
    "print(\"Task Summary\")\n",
    "print(t.quantum_tasks_statistics())\n",
    "print('Note: Charges shown are estimates based on your Amazon Braket simulator and quantum processing unit (QPU) task usage. Estimated charges shown may differ from your actual charges. Estimated charges do not factor in any discounts or credits, and you may experience additional charges based on your use of other services such as Amazon Elastic Compute Cloud (Amazon EC2).')\n",
    "print(f\"Estimated cost to run this example: {t.qpu_tasks_cost() + t.simulator_tasks_cost():.3f} USD\")"
   ]
  },
  {
   "cell_type": "code",
   "execution_count": null,
   "id": "475af9f6",
   "metadata": {},
   "outputs": [],
   "source": []
  }
 ],
 "metadata": {
  "kernelspec": {
   "display_name": "conda_braket",
   "language": "python",
   "name": "conda_braket"
  },
  "language_info": {
   "codemirror_mode": {
    "name": "ipython",
    "version": 3
   },
   "file_extension": ".py",
   "mimetype": "text/x-python",
   "name": "python",
   "nbconvert_exporter": "python",
   "pygments_lexer": "ipython3",
   "version": "3.7.15"
  }
 },
 "nbformat": 4,
 "nbformat_minor": 5
}
